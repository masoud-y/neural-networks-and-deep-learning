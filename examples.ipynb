{
 "cells": [
  {
   "attachments": {},
   "cell_type": "markdown",
   "metadata": {},
   "source": [
    "# Neural Networks from scratch\n",
    "\n",
    "This website provides a great introduction to neural networks:\n",
    "\n",
    "http://neuralnetworksanddeeplearning.com\n",
    "\n",
    "The codes are old, but they are well written and explained. I have modified them to work with Py3.\n",
    "\n",
    "## Loading the data set\n",
    "Validation is not really used, but for consistency, I kept them as is."
   ]
  },
  {
   "cell_type": "code",
   "execution_count": null,
   "metadata": {},
   "outputs": [],
   "source": [
    "import src.mnist_loader as mnist_loader\n",
    "training_data, validation_data, test_data = mnist_loader.load_data_wrapper()\n"
   ]
  },
  {
   "attachments": {},
   "cell_type": "markdown",
   "metadata": {},
   "source": [
    "## First example with quadratic cost function"
   ]
  },
  {
   "cell_type": "code",
   "execution_count": null,
   "metadata": {},
   "outputs": [],
   "source": [
    "from src import network \n",
    "net = network.Network([784, 30, 10])\n",
    "net.SGD(training_data, 30, 10, 3.0, test_data=test_data)"
   ]
  },
  {
   "attachments": {},
   "cell_type": "markdown",
   "metadata": {},
   "source": [
    "## Second example with cross entropy cost"
   ]
  },
  {
   "cell_type": "code",
   "execution_count": null,
   "metadata": {},
   "outputs": [],
   "source": [
    "from src import network2\n",
    "net2 = network2.Network([784, 30, 10], cost=network2.CrossEntropyCost)\n",
    "net2.large_weight_initializer()\n",
    "\n",
    "net2.SGD(training_data[:1000], 400, 10, 0.5, evaluation_data=test_data, lmbda = 0.1,\n",
    "         monitor_evaluation_cost=True, monitor_evaluation_accuracy=True, \n",
    "         monitor_training_cost=True, monitor_training_accuracy=True)"
   ]
  },
  {
   "attachments": {},
   "cell_type": "markdown",
   "metadata": {},
   "source": []
  }
 ],
 "metadata": {
  "language_info": {
   "name": "python"
  },
  "orig_nbformat": 4
 },
 "nbformat": 4,
 "nbformat_minor": 2
}
